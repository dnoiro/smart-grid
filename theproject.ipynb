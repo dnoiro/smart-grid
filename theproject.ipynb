{
 "cells": [
  {
   "cell_type": "markdown",
   "metadata": {},
   "source": [
    "# Initialization"
   ]
  },
  {
   "cell_type": "code",
   "metadata": {
    "ExecuteTime": {
     "end_time": "2024-07-22T20:26:28.760582Z",
     "start_time": "2024-07-22T20:26:28.707044Z"
    }
   },
   "source": [
    "import pandas as pd\n",
    "import os\n",
    "\n",
    "# Define the relative paths to the CSV files\n",
    "subfolder = 'fully-connected'\n",
    "file_names = ['Data_Raw_Low_20.csv', 'Data_Raw_Medium_20.csv', 'Data_Raw_High_20.csv']\n",
    "\n",
    "# Create an empty dictionary to store the DataFrames\n",
    "data_frames = {}\n",
    "\n",
    "# Read the CSV files into DataFrames and store them in the dictionary\n",
    "for file_name in file_names:\n",
    "    file_path = os.path.join(subfolder, file_name)\n",
    "    df = pd.read_csv(file_path)\n",
    "    data_frames[file_name] = df\n",
    "\n",
    "# Accessing the DataFrames\n",
    "df_low = data_frames['Data_Raw_Low_20.csv']\n",
    "df_medium = data_frames['Data_Raw_Medium_20.csv']\n",
    "df_high = data_frames['Data_Raw_High_20.csv']\n",
    "m = 20 # number of candidates\n",
    "n = 50 # population size\n",
    "w = 0.8 # inertia weight\n",
    "c1 = 2 # cognitive acceleration factor\n",
    "c2 = 2 # social acceleration factor\n",
    "upper_bound = 1\n",
    "lower_bound = 0\n"
   ],
   "outputs": [],
   "execution_count": 4
  },
  {
   "cell_type": "markdown",
   "metadata": {},
   "source": [
    "# Defining all possible connections based on measurements and network structure"
   ]
  },
  {
   "cell_type": "code",
   "execution_count": 35,
   "metadata": {},
   "outputs": [],
   "source": [
    "lowcandnames = df_low.columns.tolist()\n",
    "lowcandnames.remove(\"Time\")\n",
    "\n",
    "flow_type = [[lowcandnames[0],\"outflow\"],[lowcandnames[1],\"inflow\"],[lowcandnames[2],\"outflow\"],[lowcandnames[3],\"inflow\"],\n",
    "             [lowcandnames[4],\"outflow\"],[lowcandnames[5],\"outflow\"],[lowcandnames[6],\"outflow\"],[lowcandnames[7],\"inflow\"],\n",
    "             [lowcandnames[8],\"inflow\"],[lowcandnames[9],\"outflow\"],[lowcandnames[10],\"outflow\"],[lowcandnames[11],\"inflow\"],\n",
    "             [lowcandnames[12],\"inflow\"],[lowcandnames[13],\"inflow\"],[lowcandnames[14],\"outflow\"],[lowcandnames[15],\"outflow\"],\n",
    "             [lowcandnames[16],\"inflow\"],[lowcandnames[17],\"outflow\"],[lowcandnames[18],\"inflow\"],[lowcandnames[19],\"inflow\"]]\n",
    "matching_pairs = []\n",
    "for i in range(len(flow_type)):\n",
    "    for j in range(len(flow_type)):\n",
    "        if flow_type[i][1] != flow_type[j][1]:\n",
    "            matching_pairs.append((flow_type[i][0],flow_type[j][0]))\n",
    "        \n",
    "        \n",
    "        \n",
    "def candidatematching(candnames):\n",
    "    matching_pairs = []\n",
    "    for i in range(len(candnames)):\n",
    "        for j in range(i+1,len(candnames)):\n",
    "            if candnames[i][3] != candnames[j][3] and candnames[i][10] == candnames[j][10]:\n",
    "                matching_pairs.append((candnames[i],candnames[j]))\n",
    "            \n",
    "    return matching_pairs\n",
    "\n",
    "lowmatches = candidatematching(lowcandnames)"
   ]
  }
 ],
 "metadata": {
  "kernelspec": {
   "display_name": "base",
   "language": "python",
   "name": "python3"
  },
  "language_info": {
   "codemirror_mode": {
    "name": "ipython",
    "version": 3
   },
   "file_extension": ".py",
   "mimetype": "text/x-python",
   "name": "python",
   "nbconvert_exporter": "python",
   "pygments_lexer": "ipython3",
   "version": "3.11.7"
  }
 },
 "nbformat": 4,
 "nbformat_minor": 2
}
