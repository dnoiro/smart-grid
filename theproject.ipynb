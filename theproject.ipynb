{
 "cells": [
  {
   "cell_type": "code",
   "execution_count": 1,
   "metadata": {},
   "outputs": [
    {
     "name": "stdout",
     "output_type": "stream",
     "text": [
      "     Time  BUS5_01_V_ang  BUS5_01_V_mag  BUS5_02_I_ang  BUS5_02_I_mag  \\\n",
      "0  0.0000       0.831911    135632.9688       0.774781    1376.988037   \n",
      "1  0.0333       0.831911    135632.8750       0.774781    1376.987061   \n",
      "2  0.0666       0.831911    135632.9063       0.774781    1376.987427   \n",
      "3  0.0999       0.831911    135632.9063       0.774781    1376.987427   \n",
      "4  0.1332       0.831911    135632.8594       0.774781    1376.987061   \n",
      "\n",
      "   BUS6_01_V_ang  BUS6_01_V_mag  BUS6_02_I_ang  BUS6_02_I_mag  BUS6_03_I_ang  \\\n",
      "0       0.696554    133895.3281       3.908296    1376.901489       0.722895   \n",
      "1       0.696554    133895.2344       3.908296    1376.900391       0.722895   \n",
      "2       0.696554    133895.2656       3.908296    1376.900757       0.722895   \n",
      "3       0.696554    133895.2656       3.908296    1376.900757       0.722895   \n",
      "4       0.696554    133895.2344       3.908296    1376.900391       0.722895   \n",
      "\n",
      "   ...  BUS11_02_I_ang  BUS11_02_I_mag  BUS12_01_V_ang  BUS12_01_V_mag  \\\n",
      "0  ...        0.400158     1416.286865        0.590952     133593.7188   \n",
      "1  ...        0.400158     1416.285767        0.590952     133593.6094   \n",
      "2  ...        0.400158     1416.286133        0.590952     133593.6563   \n",
      "3  ...        0.400158     1416.286133        0.590952     133593.6563   \n",
      "4  ...        0.400158     1416.285767        0.590952     133593.6094   \n",
      "\n",
      "   BUS12_02_I_ang  BUS12_02_I_mag  BUS13_01_V_ang  BUS13_01_V_mag  \\\n",
      "0        3.622727     1706.845337         0.18556     135157.2344   \n",
      "1        3.622727     1706.843994         0.18556     135157.1406   \n",
      "2        3.622727     1706.844482         0.18556     135157.1719   \n",
      "3        3.622727     1706.844482         0.18556     135157.1719   \n",
      "4        3.622727     1706.843994         0.18556     135157.1406   \n",
      "\n",
      "   BUS13_02_I_ang  BUS13_02_I_mag  \n",
      "0         3.27549     3580.599365  \n",
      "1         3.27549     3580.596680  \n",
      "2         3.27549     3580.597656  \n",
      "3         3.27549     3580.597656  \n",
      "4         3.27549     3580.596680  \n",
      "\n",
      "[5 rows x 59 columns]\n"
     ]
    }
   ],
   "source": [
    "import pandas as pd\n",
    "import os\n",
    "\n",
    "# Define the relative paths to the CSV files\n",
    "subfolder = 'fully-connected'\n",
    "file_names = ['Data_Raw_Low_20.csv', 'Data_Raw_Medium_20.csv', 'Data_Raw_High_20.csv']\n",
    "\n",
    "# Create an empty dictionary to store the DataFrames\n",
    "data_frames = {}\n",
    "\n",
    "# Read the CSV files into DataFrames and store them in the dictionary\n",
    "for file_name in file_names:\n",
    "    file_path = os.path.join(subfolder, file_name)\n",
    "    df = pd.read_csv(file_path)\n",
    "    data_frames[file_name] = df\n",
    "\n",
    "# Accessing the DataFrames\n",
    "df_low = data_frames['Data_Raw_Low_20.csv']\n",
    "df_medium = data_frames['Data_Raw_Medium_20.csv']\n",
    "df_high = data_frames['Data_Raw_High_20.csv']\n",
    "print(df_low.head())\n",
    "m = 20 # number of candidates\n",
    "n = 50 # population size\n",
    "w = 0.8 # inertia weight\n",
    "c1 = 2 # cognitive acceleration factor\n",
    "c2 = 3 # social acceleration factor\n"
   ]
  }
 ],
 "metadata": {
  "kernelspec": {
   "display_name": "base",
   "language": "python",
   "name": "python3"
  },
  "language_info": {
   "codemirror_mode": {
    "name": "ipython",
    "version": 3
   },
   "file_extension": ".py",
   "mimetype": "text/x-python",
   "name": "python",
   "nbconvert_exporter": "python",
   "pygments_lexer": "ipython3",
   "version": "3.11.7"
  }
 },
 "nbformat": 4,
 "nbformat_minor": 2
}
