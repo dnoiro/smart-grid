{
 "cells": [
  {
   "cell_type": "markdown",
   "metadata": {},
   "source": [
    "# Initialization"
   ]
  },
  {
   "cell_type": "code",
   "execution_count": 6,
   "metadata": {},
   "outputs": [],
   "source": [
    "import pandas as pd\n",
    "import os\n",
    "\n",
    "# Define the relative paths to the CSV files\n",
    "subfolder = 'fully-connected'\n",
    "file_names = ['Data_Raw_Low_20.csv', 'Data_Raw_Medium_20.csv', 'Data_Raw_High_20.csv']\n",
    "\n",
    "# Create an empty dictionary to store the DataFrames\n",
    "data_frames = {}\n",
    "\n",
    "# Read the CSV files into DataFrames and store them in the dictionary\n",
    "for file_name in file_names:\n",
    "    file_path = os.path.join(subfolder, file_name)\n",
    "    df = pd.read_csv(file_path)\n",
    "    data_frames[file_name] = df\n",
    "\n",
    "# Accessing the DataFrames\n",
    "df_low = data_frames['Data_Raw_Low_20.csv']\n",
    "df_medium = data_frames['Data_Raw_Medium_20.csv']\n",
    "df_high = data_frames['Data_Raw_High_20.csv']\n",
    "m = 20 # number of candidates\n",
    "n = 50 # population size\n",
    "w = 0.8 # inertia weight\n",
    "c1 = 2 # cognitive acceleration factor\n",
    "c2 = 2 # social acceleration factor\n",
    "upper_bound = 1\n",
    "lower_bound = 0"
   ]
  },
  {
   "cell_type": "markdown",
   "metadata": {},
   "source": [
    "# Defining all possible connections based on measurements and network structure"
   ]
  },
  {
   "cell_type": "code",
   "execution_count": null,
   "metadata": {},
   "outputs": [],
   "source": []
  }
 ],
 "metadata": {
  "kernelspec": {
   "display_name": "base",
   "language": "python",
   "name": "python3"
  },
  "language_info": {
   "codemirror_mode": {
    "name": "ipython",
    "version": 3
   },
   "file_extension": ".py",
   "mimetype": "text/x-python",
   "name": "python",
   "nbconvert_exporter": "python",
   "pygments_lexer": "ipython3",
   "version": "3.11.7"
  }
 },
 "nbformat": 4,
 "nbformat_minor": 2
}
