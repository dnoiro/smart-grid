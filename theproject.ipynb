{
 "cells": [
  {
   "cell_type": "markdown",
   "metadata": {},
   "source": [
    "# Initialization"
   ]
  },
  {
   "cell_type": "code",
   "execution_count": 3,
   "metadata": {
    "ExecuteTime": {
     "end_time": "2024-07-22T20:26:28.760582Z",
     "start_time": "2024-07-22T20:26:28.707044Z"
    }
   },
   "outputs": [
    {
     "ename": "KeyError",
     "evalue": "4",
     "output_type": "error",
     "traceback": [
      "\u001b[0;31m---------------------------------------------------------------------------\u001b[0m",
      "\u001b[0;31mKeyError\u001b[0m                                  Traceback (most recent call last)",
      "Cell \u001b[0;32mIn[3], line 35\u001b[0m\n\u001b[1;32m     32\u001b[0m     \u001b[38;5;28;01mreturn\u001b[39;00m connections\n\u001b[1;32m     34\u001b[0m \u001b[38;5;66;03m# Get possible connections\u001b[39;00m\n\u001b[0;32m---> 35\u001b[0m connections \u001b[38;5;241m=\u001b[39m define_connections(outflow_candidates, inflow_candidates, candidates)\n\u001b[1;32m     37\u001b[0m \u001b[38;5;66;03m# Display the connections\u001b[39;00m\n\u001b[1;32m     38\u001b[0m \u001b[38;5;28;01mfor\u001b[39;00m outflow, matches \u001b[38;5;129;01min\u001b[39;00m connections\u001b[38;5;241m.\u001b[39mitems():\n",
      "Cell \u001b[0;32mIn[3], line 27\u001b[0m, in \u001b[0;36mdefine_connections\u001b[0;34m(outflow_candidates, inflow_candidates, candidates)\u001b[0m\n\u001b[1;32m     25\u001b[0m outflow_buses \u001b[38;5;241m=\u001b[39m \u001b[38;5;28mset\u001b[39m([measurement\u001b[38;5;241m.\u001b[39msplit(\u001b[38;5;124m'\u001b[39m\u001b[38;5;124m_\u001b[39m\u001b[38;5;124m'\u001b[39m)[\u001b[38;5;241m0\u001b[39m] \u001b[38;5;28;01mfor\u001b[39;00m measurement \u001b[38;5;129;01min\u001b[39;00m candidates[outflow]])\n\u001b[1;32m     26\u001b[0m \u001b[38;5;28;01mfor\u001b[39;00m inflow \u001b[38;5;129;01min\u001b[39;00m inflow_candidates:\n\u001b[0;32m---> 27\u001b[0m     inflow_buses \u001b[38;5;241m=\u001b[39m \u001b[38;5;28mset\u001b[39m([measurement\u001b[38;5;241m.\u001b[39msplit(\u001b[38;5;124m'\u001b[39m\u001b[38;5;124m_\u001b[39m\u001b[38;5;124m'\u001b[39m)[\u001b[38;5;241m0\u001b[39m] \u001b[38;5;28;01mfor\u001b[39;00m measurement \u001b[38;5;129;01min\u001b[39;00m candidates[inflow]])\n\u001b[1;32m     28\u001b[0m     \u001b[38;5;66;03m# Ensure outflow and inflow are not from the same bus/node\u001b[39;00m\n\u001b[1;32m     29\u001b[0m     \u001b[38;5;28;01mif\u001b[39;00m outflow_buses\u001b[38;5;241m.\u001b[39misdisjoint(inflow_buses):\n",
      "\u001b[0;31mKeyError\u001b[0m: 4"
     ]
    }
   ],
   "source": [
    "import pandas as pd\n",
    "\n",
    "# Load the dataset\n",
    "file_path = 'fully-connected/Data_Raw_Low_20.csv'\n",
    "data = pd.read_csv(file_path)\n",
    "\n",
    "# Define candidates and their corresponding bus measurements based on the provided image\n",
    "candidates = {\n",
    "    1: [\"BUS5_01_V_ang\", \"BUS5_01_V_mag\", \"BUS5_02_I_ang\", \"BUS5_02_I_mag\"],\n",
    "    2: [\"BUS6_01_V_ang\", \"BUS6_01_V_mag\", \"BUS6_02_I_ang\", \"BUS6_02_I_mag\"],\n",
    "    3: [\"BUS6_01_V_ang\", \"BUS6_01_V_mag\", \"BUS6_03_I_ang\", \"BUS6_03_I_mag\"],\n",
    "    # ... Add the remaining candidates up to 20\n",
    "    20: [\"BUS13_01_V_ang\", \"BUS13_01_V_mag\", \"BUS13_02_I_ang\", \"BUS13_02_I_mag\"]\n",
    "}\n",
    "\n",
    "# Define which candidates are outflows and inflows based on your list\n",
    "outflow_candidates = [1, 3, 5, 6, 7, 10, 11, 15, 16, 18]\n",
    "inflow_candidates = [2, 4, 8, 9, 12, 13, 14, 17, 19, 20]\n",
    "\n",
    "# Function to define connections\n",
    "def define_connections(outflow_candidates, inflow_candidates, candidates):\n",
    "    connections = {}\n",
    "    for outflow in outflow_candidates:\n",
    "        possible_matches = []\n",
    "        outflow_buses = set([measurement.split('_')[0] for measurement in candidates[outflow]])\n",
    "        for inflow in inflow_candidates:\n",
    "            inflow_buses = set([measurement.split('_')[0] for measurement in candidates[inflow]])\n",
    "            # Ensure outflow and inflow are not from the same bus/node\n",
    "            if outflow_buses.isdisjoint(inflow_buses):\n",
    "                possible_matches.append(inflow)\n",
    "        connections[outflow] = possible_matches\n",
    "    return connections\n",
    "\n",
    "# Get possible connections\n",
    "connections = define_connections(outflow_candidates, inflow_candidates, candidates)\n",
    "\n",
    "# Display the connections\n",
    "for outflow, matches in connections.items():\n",
    "    print(f\"Candidate {outflow}: {matches}\")\n",
    "\n",
    "\n",
    "m = 20 # number of candidates\n",
    "n = 50 # population size\n",
    "w = 0.8 # inertia weight\n",
    "c1 = 2 # cognitive acceleration factor\n",
    "c2 = 2 # social acceleration factor\n",
    "upper_bound = 1\n",
    "lower_bound = 0"
   ]
  },
  {
   "cell_type": "markdown",
   "metadata": {},
   "source": [
    "# Defining possible connections based on measurements and network structure"
   ]
  }
 ],
 "metadata": {
  "kernelspec": {
   "display_name": "Python 3 (ipykernel)",
   "language": "python",
   "name": "python3"
  },
  "language_info": {
   "codemirror_mode": {
    "name": "ipython",
    "version": 3
   },
   "file_extension": ".py",
   "mimetype": "text/x-python",
   "name": "python",
   "nbconvert_exporter": "python",
   "pygments_lexer": "ipython3",
   "version": "3.11.7"
  }
 },
 "nbformat": 4,
 "nbformat_minor": 4
}
